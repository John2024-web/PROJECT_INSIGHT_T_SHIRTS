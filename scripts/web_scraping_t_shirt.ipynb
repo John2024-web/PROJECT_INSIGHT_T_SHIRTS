{
 "cells": [
  {
   "cell_type": "markdown",
   "id": "378d201e",
   "metadata": {},
   "source": [
    "# Verificação de Scripts\n"
   ]
  },
  {
   "cell_type": "markdown",
   "id": "f48e3172",
   "metadata": {},
   "source": [
    "### Imports"
   ]
  },
  {
   "cell_type": "code",
   "execution_count": 1,
   "id": "e124a430",
   "metadata": {
    "ExecuteTime": {
     "end_time": "2022-11-04T19:18:15.284201Z",
     "start_time": "2022-11-04T19:18:05.853613Z"
    }
   },
   "outputs": [],
   "source": [
    "import re\n",
    "import requests\n",
    "import pandas as pd\n",
    "from numpy import int64\n",
    "from bs4   import BeautifulSoup"
   ]
  },
  {
   "cell_type": "markdown",
   "id": "bdc46c36",
   "metadata": {},
   "source": [
    "### Collect Data - WOMEN"
   ]
  },
  {
   "cell_type": "code",
   "execution_count": 2,
   "id": "a553d084",
   "metadata": {
    "ExecuteTime": {
     "end_time": "2022-11-04T19:18:21.340035Z",
     "start_time": "2022-11-04T19:18:15.325096Z"
    }
   },
   "outputs": [],
   "source": [
    "# parameters\n",
    "headers = {'User-Agent': 'Mozilla/5.0 (Windows NT 10.0; Win64; x64) AppleWebKit/537.36 (KHTML, like Gecko) Chrome/98.0.4758.102 Safari/537.36'}\n",
    "\n",
    "# URL\n",
    "url = 'https://www2.hm.com/en_us/search-results.html?q=t-shirt%20ladies&sort=stock&image-size=small&image=stillLife&offset=0&page-size=216'\n",
    "\n",
    "# Request to URL\n",
    "page = requests.get( url, headers=headers )\n",
    "\n",
    "# Beautiful Soup object #\n",
    "soup = BeautifulSoup( page.text, 'html.parser' )\n",
    "\n",
    "#=========================== Products e columns ===========================\n",
    "products = soup.find( 'ul', class_='products-listing small' )\n",
    "product_list = soup.find_all( 'article', class_='hm-product-item' )\n",
    "\n",
    "# id \n",
    "product_id = [p.get( 'data-articlecode' ) for p in product_list]\n",
    "\n",
    "# category \n",
    "product_category = [p.get( 'data-category' ) for p in product_list]\n",
    "\n",
    "# product name #\n",
    "product_list = products.find_all( 'a', class_='link' )\n",
    "product_name = [p.get_text() for p in product_list]\n",
    "\n",
    "# price #\n",
    "product_list = products.find_all( 'span', class_='price regular' )\n",
    "product_price = [p.get_text() for p in product_list]\n",
    "\n",
    "# Create dataframe \n",
    "data_women = pd.DataFrame( [product_id, product_category, product_name, product_price] ).T\n",
    "data_women.columns = ['product_id', 'product_category', 'product_name', 'product_price']\n",
    "\n",
    "# create columns gender\n",
    "data_women['gender'] = None\n",
    "data_women['gender'] = data_women['gender'].fillna('female')"
   ]
  },
  {
   "cell_type": "code",
   "execution_count": 3,
   "id": "b24e97fd",
   "metadata": {
    "ExecuteTime": {
     "end_time": "2022-11-04T19:18:22.635032Z",
     "start_time": "2022-11-04T19:18:22.262699Z"
    }
   },
   "outputs": [
    {
     "data": {
      "text/html": [
       "<div>\n",
       "<style scoped>\n",
       "    .dataframe tbody tr th:only-of-type {\n",
       "        vertical-align: middle;\n",
       "    }\n",
       "\n",
       "    .dataframe tbody tr th {\n",
       "        vertical-align: top;\n",
       "    }\n",
       "\n",
       "    .dataframe thead th {\n",
       "        text-align: right;\n",
       "    }\n",
       "</style>\n",
       "<table border=\"1\" class=\"dataframe\">\n",
       "  <thead>\n",
       "    <tr style=\"text-align: right;\">\n",
       "      <th></th>\n",
       "      <th>product_id</th>\n",
       "      <th>product_category</th>\n",
       "      <th>product_name</th>\n",
       "      <th>product_price</th>\n",
       "      <th>gender</th>\n",
       "    </tr>\n",
       "  </thead>\n",
       "  <tbody>\n",
       "    <tr>\n",
       "      <th>0</th>\n",
       "      <td>0963662002</td>\n",
       "      <td>ladies_basics_tops_shortsleeve</td>\n",
       "      <td>Cotton T-shirt</td>\n",
       "      <td>$ 5.99</td>\n",
       "      <td>female</td>\n",
       "    </tr>\n",
       "    <tr>\n",
       "      <th>1</th>\n",
       "      <td>0762558221</td>\n",
       "      <td>ladies_tops_printed_tshirts</td>\n",
       "      <td>Oversized Printed T-shirt</td>\n",
       "      <td>$ 17.99</td>\n",
       "      <td>female</td>\n",
       "    </tr>\n",
       "    <tr>\n",
       "      <th>2</th>\n",
       "      <td>1031652022</td>\n",
       "      <td>ladies_tops_printed_tshirts</td>\n",
       "      <td>Printed T-shirt</td>\n",
       "      <td>$ 17.99</td>\n",
       "      <td>female</td>\n",
       "    </tr>\n",
       "    <tr>\n",
       "      <th>3</th>\n",
       "      <td>0762558229</td>\n",
       "      <td>ladies_tops_printed_tshirts</td>\n",
       "      <td>Oversized Printed T-shirt</td>\n",
       "      <td>$ 17.99</td>\n",
       "      <td>female</td>\n",
       "    </tr>\n",
       "    <tr>\n",
       "      <th>4</th>\n",
       "      <td>0963662001</td>\n",
       "      <td>ladies_basics_tops_shortsleeve</td>\n",
       "      <td>Cotton T-shirt</td>\n",
       "      <td>$ 5.99</td>\n",
       "      <td>female</td>\n",
       "    </tr>\n",
       "  </tbody>\n",
       "</table>\n",
       "</div>"
      ],
      "text/plain": [
       "   product_id                product_category               product_name  \\\n",
       "0  0963662002  ladies_basics_tops_shortsleeve             Cotton T-shirt   \n",
       "1  0762558221     ladies_tops_printed_tshirts  Oversized Printed T-shirt   \n",
       "2  1031652022     ladies_tops_printed_tshirts            Printed T-shirt   \n",
       "3  0762558229     ladies_tops_printed_tshirts  Oversized Printed T-shirt   \n",
       "4  0963662001  ladies_basics_tops_shortsleeve             Cotton T-shirt   \n",
       "\n",
       "  product_price  gender  \n",
       "0        $ 5.99  female  \n",
       "1       $ 17.99  female  \n",
       "2       $ 17.99  female  \n",
       "3       $ 17.99  female  \n",
       "4        $ 5.99  female  "
      ]
     },
     "execution_count": 3,
     "metadata": {},
     "output_type": "execute_result"
    }
   ],
   "source": [
    "data_women.head()"
   ]
  },
  {
   "cell_type": "markdown",
   "id": "8e004aea",
   "metadata": {},
   "source": [
    "### Collect Data - MEN"
   ]
  },
  {
   "cell_type": "code",
   "execution_count": 4,
   "id": "7efa9887",
   "metadata": {
    "ExecuteTime": {
     "end_time": "2022-11-04T19:18:31.523259Z",
     "start_time": "2022-11-04T19:18:23.545979Z"
    }
   },
   "outputs": [],
   "source": [
    "# parameters\n",
    "headers = {'User-Agent': 'Mozilla/5.0 (Windows NT 10.0; Win64; x64) AppleWebKit/537.36 (KHTML, like Gecko) Chrome/98.0.4758.102 Safari/537.36'}\n",
    "\n",
    "# URL\n",
    "url = 'https://www2.hm.com/en_us/men/products/t-shirts-tank-tops.html?sort=stock&image-size=small&image=model&offset=0&page-size=367'\n",
    "\n",
    "# Request to URL\n",
    "page = requests.get( url, headers=headers )\n",
    "\n",
    "# Beautiful Soup object #\n",
    "soup = BeautifulSoup( page.text, 'html.parser' )\n",
    "\n",
    "#=========================== Products e columns ===========================\n",
    "products = soup.find( 'ul', class_='products-listing small' )\n",
    "product_list = soup.find_all( 'article', class_='hm-product-item' )\n",
    "\n",
    "# id \n",
    "product_id = [p.get( 'data-articlecode' ) for p in product_list]\n",
    "\n",
    "# category \n",
    "product_category = [p.get( 'data-category' ) for p in product_list]\n",
    "\n",
    "# product name #\n",
    "product_list = products.find_all( 'a', class_='link' )\n",
    "product_name = [p.get_text() for p in product_list]\n",
    "\n",
    "# price #\n",
    "product_list = products.find_all( 'span', class_='price regular' )\n",
    "product_price = [p.get_text() for p in product_list]\n",
    "\n",
    "# Create dataframe \n",
    "data_men = pd.DataFrame( [product_id, product_category, product_name, product_price] ).T\n",
    "data_men.columns = ['product_id', 'product_category', 'product_name', 'product_price']\n",
    "\n",
    "# create columns gender\n",
    "data_men['gender'] = None\n",
    "data_men['gender'] = data_men['gender'].fillna('male')"
   ]
  },
  {
   "cell_type": "code",
   "execution_count": 5,
   "id": "ae642c7a",
   "metadata": {
    "ExecuteTime": {
     "end_time": "2022-11-04T19:18:33.017041Z",
     "start_time": "2022-11-04T19:18:32.988118Z"
    }
   },
   "outputs": [
    {
     "data": {
      "text/html": [
       "<div>\n",
       "<style scoped>\n",
       "    .dataframe tbody tr th:only-of-type {\n",
       "        vertical-align: middle;\n",
       "    }\n",
       "\n",
       "    .dataframe tbody tr th {\n",
       "        vertical-align: top;\n",
       "    }\n",
       "\n",
       "    .dataframe thead th {\n",
       "        text-align: right;\n",
       "    }\n",
       "</style>\n",
       "<table border=\"1\" class=\"dataframe\">\n",
       "  <thead>\n",
       "    <tr style=\"text-align: right;\">\n",
       "      <th></th>\n",
       "      <th>product_id</th>\n",
       "      <th>product_category</th>\n",
       "      <th>product_name</th>\n",
       "      <th>product_price</th>\n",
       "      <th>gender</th>\n",
       "    </tr>\n",
       "  </thead>\n",
       "  <tbody>\n",
       "    <tr>\n",
       "      <th>0</th>\n",
       "      <td>0685816053</td>\n",
       "      <td>men_tshirtstanks_shortsleeve</td>\n",
       "      <td>Regular Fit Crew-neck T-shirt</td>\n",
       "      <td>$ 5.99</td>\n",
       "      <td>male</td>\n",
       "    </tr>\n",
       "    <tr>\n",
       "      <th>1</th>\n",
       "      <td>0624684003</td>\n",
       "      <td>men_tshirtstanks_multipacks</td>\n",
       "      <td>5-pack Slim Fit T-shirts</td>\n",
       "      <td>$ 34.99</td>\n",
       "      <td>male</td>\n",
       "    </tr>\n",
       "    <tr>\n",
       "      <th>2</th>\n",
       "      <td>0598755001</td>\n",
       "      <td>men_tshirtstanks_shortsleeve</td>\n",
       "      <td>Long Fit T-shirt</td>\n",
       "      <td>$ 9.99</td>\n",
       "      <td>male</td>\n",
       "    </tr>\n",
       "    <tr>\n",
       "      <th>3</th>\n",
       "      <td>0685816002</td>\n",
       "      <td>men_tshirtstanks_shortsleeve</td>\n",
       "      <td>Regular Fit Crew-neck T-shirt</td>\n",
       "      <td>$ 5.99</td>\n",
       "      <td>male</td>\n",
       "    </tr>\n",
       "    <tr>\n",
       "      <th>4</th>\n",
       "      <td>0608945008</td>\n",
       "      <td>men_tshirtstanks_shortsleeve</td>\n",
       "      <td>Relaxed Fit T-shirt</td>\n",
       "      <td>$ 12.99</td>\n",
       "      <td>male</td>\n",
       "    </tr>\n",
       "  </tbody>\n",
       "</table>\n",
       "</div>"
      ],
      "text/plain": [
       "   product_id              product_category                   product_name  \\\n",
       "0  0685816053  men_tshirtstanks_shortsleeve  Regular Fit Crew-neck T-shirt   \n",
       "1  0624684003   men_tshirtstanks_multipacks       5-pack Slim Fit T-shirts   \n",
       "2  0598755001  men_tshirtstanks_shortsleeve               Long Fit T-shirt   \n",
       "3  0685816002  men_tshirtstanks_shortsleeve  Regular Fit Crew-neck T-shirt   \n",
       "4  0608945008  men_tshirtstanks_shortsleeve            Relaxed Fit T-shirt   \n",
       "\n",
       "  product_price gender  \n",
       "0        $ 5.99   male  \n",
       "1       $ 34.99   male  \n",
       "2        $ 9.99   male  \n",
       "3        $ 5.99   male  \n",
       "4       $ 12.99   male  "
      ]
     },
     "execution_count": 5,
     "metadata": {},
     "output_type": "execute_result"
    }
   ],
   "source": [
    "data_men.head()"
   ]
  },
  {
   "cell_type": "markdown",
   "id": "d4e09644",
   "metadata": {},
   "source": [
    "## Join of Tables "
   ]
  },
  {
   "cell_type": "code",
   "execution_count": 6,
   "id": "3721d866",
   "metadata": {
    "ExecuteTime": {
     "end_time": "2022-11-04T19:18:34.618077Z",
     "start_time": "2022-11-04T19:18:34.573141Z"
    }
   },
   "outputs": [
    {
     "data": {
      "text/html": [
       "<div>\n",
       "<style scoped>\n",
       "    .dataframe tbody tr th:only-of-type {\n",
       "        vertical-align: middle;\n",
       "    }\n",
       "\n",
       "    .dataframe tbody tr th {\n",
       "        vertical-align: top;\n",
       "    }\n",
       "\n",
       "    .dataframe thead th {\n",
       "        text-align: right;\n",
       "    }\n",
       "</style>\n",
       "<table border=\"1\" class=\"dataframe\">\n",
       "  <thead>\n",
       "    <tr style=\"text-align: right;\">\n",
       "      <th></th>\n",
       "      <th>product_id</th>\n",
       "      <th>product_category</th>\n",
       "      <th>product_name</th>\n",
       "      <th>product_price</th>\n",
       "      <th>gender</th>\n",
       "    </tr>\n",
       "  </thead>\n",
       "  <tbody>\n",
       "    <tr>\n",
       "      <th>0</th>\n",
       "      <td>0963662002</td>\n",
       "      <td>ladies_basics_tops_shortsleeve</td>\n",
       "      <td>Cotton T-shirt</td>\n",
       "      <td>$ 5.99</td>\n",
       "      <td>female</td>\n",
       "    </tr>\n",
       "    <tr>\n",
       "      <th>1</th>\n",
       "      <td>0762558221</td>\n",
       "      <td>ladies_tops_printed_tshirts</td>\n",
       "      <td>Oversized Printed T-shirt</td>\n",
       "      <td>$ 17.99</td>\n",
       "      <td>female</td>\n",
       "    </tr>\n",
       "    <tr>\n",
       "      <th>2</th>\n",
       "      <td>1031652022</td>\n",
       "      <td>ladies_tops_printed_tshirts</td>\n",
       "      <td>Printed T-shirt</td>\n",
       "      <td>$ 17.99</td>\n",
       "      <td>female</td>\n",
       "    </tr>\n",
       "    <tr>\n",
       "      <th>3</th>\n",
       "      <td>0762558229</td>\n",
       "      <td>ladies_tops_printed_tshirts</td>\n",
       "      <td>Oversized Printed T-shirt</td>\n",
       "      <td>$ 17.99</td>\n",
       "      <td>female</td>\n",
       "    </tr>\n",
       "    <tr>\n",
       "      <th>4</th>\n",
       "      <td>0963662001</td>\n",
       "      <td>ladies_basics_tops_shortsleeve</td>\n",
       "      <td>Cotton T-shirt</td>\n",
       "      <td>$ 5.99</td>\n",
       "      <td>female</td>\n",
       "    </tr>\n",
       "    <tr>\n",
       "      <th>...</th>\n",
       "      <td>...</td>\n",
       "      <td>...</td>\n",
       "      <td>...</td>\n",
       "      <td>...</td>\n",
       "      <td>...</td>\n",
       "    </tr>\n",
       "    <tr>\n",
       "      <th>358</th>\n",
       "      <td>1084761001</td>\n",
       "      <td>men_tshirtstanks</td>\n",
       "      <td>Wool-blend Base-layer Top</td>\n",
       "      <td>$ 64.99</td>\n",
       "      <td>male</td>\n",
       "    </tr>\n",
       "    <tr>\n",
       "      <th>359</th>\n",
       "      <td>0653275070</td>\n",
       "      <td>men_tshirtstanks_shortsleeve</td>\n",
       "      <td>Sports Shirt in DryMove™</td>\n",
       "      <td>$ 12.99</td>\n",
       "      <td>male</td>\n",
       "    </tr>\n",
       "    <tr>\n",
       "      <th>360</th>\n",
       "      <td>0653706054</td>\n",
       "      <td>men_tshirtstanks_shortsleeve</td>\n",
       "      <td>Slim Fit Sports Shirt</td>\n",
       "      <td>$ 17.99</td>\n",
       "      <td>male</td>\n",
       "    </tr>\n",
       "    <tr>\n",
       "      <th>361</th>\n",
       "      <td>1025399019</td>\n",
       "      <td>men_tshirtstanks_shortsleeve</td>\n",
       "      <td>Running Shirt in DryMove™</td>\n",
       "      <td>$ 17.99</td>\n",
       "      <td>male</td>\n",
       "    </tr>\n",
       "    <tr>\n",
       "      <th>362</th>\n",
       "      <td>1032529012</td>\n",
       "      <td>men_tshirtstanks_shortsleeve</td>\n",
       "      <td>Regular Fit T-shirt with Chest Pocket</td>\n",
       "      <td>$ 14.99</td>\n",
       "      <td>male</td>\n",
       "    </tr>\n",
       "  </tbody>\n",
       "</table>\n",
       "<p>579 rows × 5 columns</p>\n",
       "</div>"
      ],
      "text/plain": [
       "     product_id                product_category  \\\n",
       "0    0963662002  ladies_basics_tops_shortsleeve   \n",
       "1    0762558221     ladies_tops_printed_tshirts   \n",
       "2    1031652022     ladies_tops_printed_tshirts   \n",
       "3    0762558229     ladies_tops_printed_tshirts   \n",
       "4    0963662001  ladies_basics_tops_shortsleeve   \n",
       "..          ...                             ...   \n",
       "358  1084761001                men_tshirtstanks   \n",
       "359  0653275070    men_tshirtstanks_shortsleeve   \n",
       "360  0653706054    men_tshirtstanks_shortsleeve   \n",
       "361  1025399019    men_tshirtstanks_shortsleeve   \n",
       "362  1032529012    men_tshirtstanks_shortsleeve   \n",
       "\n",
       "                              product_name product_price  gender  \n",
       "0                           Cotton T-shirt        $ 5.99  female  \n",
       "1                Oversized Printed T-shirt       $ 17.99  female  \n",
       "2                          Printed T-shirt       $ 17.99  female  \n",
       "3                Oversized Printed T-shirt       $ 17.99  female  \n",
       "4                           Cotton T-shirt        $ 5.99  female  \n",
       "..                                     ...           ...     ...  \n",
       "358              Wool-blend Base-layer Top       $ 64.99    male  \n",
       "359               Sports Shirt in DryMove™       $ 12.99    male  \n",
       "360                  Slim Fit Sports Shirt       $ 17.99    male  \n",
       "361              Running Shirt in DryMove™       $ 17.99    male  \n",
       "362  Regular Fit T-shirt with Chest Pocket       $ 14.99    male  \n",
       "\n",
       "[579 rows x 5 columns]"
      ]
     },
     "execution_count": 6,
     "metadata": {},
     "output_type": "execute_result"
    }
   ],
   "source": [
    "data = pd.concat([data_women, data_men])\n",
    "data"
   ]
  },
  {
   "cell_type": "code",
   "execution_count": 7,
   "id": "b3a647d4",
   "metadata": {
    "ExecuteTime": {
     "end_time": "2022-11-04T19:18:36.157108Z",
     "start_time": "2022-11-04T19:18:36.144659Z"
    }
   },
   "outputs": [],
   "source": [
    "# Index reset\n",
    "data.reset_index(drop=True, inplace=True)"
   ]
  },
  {
   "cell_type": "markdown",
   "id": "c61f43f4",
   "metadata": {},
   "source": [
    "### Data Cleaning"
   ]
  },
  {
   "cell_type": "code",
   "execution_count": 8,
   "id": "29229f91",
   "metadata": {
    "ExecuteTime": {
     "end_time": "2022-11-04T19:18:37.648646Z",
     "start_time": "2022-11-04T19:18:37.635684Z"
    }
   },
   "outputs": [
    {
     "data": {
      "text/plain": [
       "Index(['product_id', 'product_category', 'product_name', 'product_price',\n",
       "       'gender'],\n",
       "      dtype='object')"
      ]
     },
     "execution_count": 8,
     "metadata": {},
     "output_type": "execute_result"
    }
   ],
   "source": [
    "data.columns # view columns"
   ]
  },
  {
   "cell_type": "code",
   "execution_count": 13,
   "id": "b61b86c3",
   "metadata": {
    "ExecuteTime": {
     "end_time": "2022-11-04T19:18:58.705445Z",
     "start_time": "2022-11-04T19:18:58.684769Z"
    }
   },
   "outputs": [
    {
     "data": {
      "text/plain": [
       "product_id            int64\n",
       "product_category     object\n",
       "product_name         object\n",
       "product_price       float64\n",
       "gender               object\n",
       "dtype: object"
      ]
     },
     "execution_count": 13,
     "metadata": {},
     "output_type": "execute_result"
    }
   ],
   "source": [
    "data.dtypes # Types the data"
   ]
  },
  {
   "cell_type": "code",
   "execution_count": 14,
   "id": "d675e43e",
   "metadata": {
    "ExecuteTime": {
     "end_time": "2022-11-04T19:19:00.383360Z",
     "start_time": "2022-11-04T19:19:00.370389Z"
    }
   },
   "outputs": [
    {
     "data": {
      "text/plain": [
       "product_id          0\n",
       "product_category    0\n",
       "product_name        0\n",
       "product_price       0\n",
       "gender              0\n",
       "dtype: int64"
      ]
     },
     "execution_count": 14,
     "metadata": {},
     "output_type": "execute_result"
    }
   ],
   "source": [
    "data.isna().sum() # There are no null values"
   ]
  },
  {
   "cell_type": "code",
   "execution_count": 9,
   "id": "4dd49c24",
   "metadata": {
    "ExecuteTime": {
     "end_time": "2022-11-04T19:18:39.188016Z",
     "start_time": "2022-11-04T19:18:39.160278Z"
    }
   },
   "outputs": [],
   "source": [
    "# product_id\n",
    "data['product_id'] = data['product_id'].astype('int64')\n",
    "\n",
    "\n",
    "# product_name\n",
    "data['product_name'] = data['product_name'].apply( lambda x: x.replace( ' ', '_' ).lower() )\n",
    "\n",
    "# product_price \n",
    "data['product_price'] = data['product_price'].apply( lambda x: float( re.search( '\\d+\\.?\\d+', x ).group(0)))"
   ]
  },
  {
   "cell_type": "code",
   "execution_count": 10,
   "id": "b526d3e3",
   "metadata": {
    "ExecuteTime": {
     "end_time": "2022-11-04T19:18:41.085446Z",
     "start_time": "2022-11-04T19:18:41.049111Z"
    }
   },
   "outputs": [
    {
     "data": {
      "text/html": [
       "<div>\n",
       "<style scoped>\n",
       "    .dataframe tbody tr th:only-of-type {\n",
       "        vertical-align: middle;\n",
       "    }\n",
       "\n",
       "    .dataframe tbody tr th {\n",
       "        vertical-align: top;\n",
       "    }\n",
       "\n",
       "    .dataframe thead th {\n",
       "        text-align: right;\n",
       "    }\n",
       "</style>\n",
       "<table border=\"1\" class=\"dataframe\">\n",
       "  <thead>\n",
       "    <tr style=\"text-align: right;\">\n",
       "      <th></th>\n",
       "      <th>product_id</th>\n",
       "      <th>product_category</th>\n",
       "      <th>product_name</th>\n",
       "      <th>product_price</th>\n",
       "      <th>gender</th>\n",
       "    </tr>\n",
       "  </thead>\n",
       "  <tbody>\n",
       "    <tr>\n",
       "      <th>0</th>\n",
       "      <td>963662002</td>\n",
       "      <td>ladies_basics_tops_shortsleeve</td>\n",
       "      <td>cotton_t-shirt</td>\n",
       "      <td>5.99</td>\n",
       "      <td>female</td>\n",
       "    </tr>\n",
       "    <tr>\n",
       "      <th>1</th>\n",
       "      <td>762558221</td>\n",
       "      <td>ladies_tops_printed_tshirts</td>\n",
       "      <td>oversized_printed_t-shirt</td>\n",
       "      <td>17.99</td>\n",
       "      <td>female</td>\n",
       "    </tr>\n",
       "    <tr>\n",
       "      <th>2</th>\n",
       "      <td>1031652022</td>\n",
       "      <td>ladies_tops_printed_tshirts</td>\n",
       "      <td>printed_t-shirt</td>\n",
       "      <td>17.99</td>\n",
       "      <td>female</td>\n",
       "    </tr>\n",
       "    <tr>\n",
       "      <th>3</th>\n",
       "      <td>762558229</td>\n",
       "      <td>ladies_tops_printed_tshirts</td>\n",
       "      <td>oversized_printed_t-shirt</td>\n",
       "      <td>17.99</td>\n",
       "      <td>female</td>\n",
       "    </tr>\n",
       "    <tr>\n",
       "      <th>4</th>\n",
       "      <td>963662001</td>\n",
       "      <td>ladies_basics_tops_shortsleeve</td>\n",
       "      <td>cotton_t-shirt</td>\n",
       "      <td>5.99</td>\n",
       "      <td>female</td>\n",
       "    </tr>\n",
       "    <tr>\n",
       "      <th>...</th>\n",
       "      <td>...</td>\n",
       "      <td>...</td>\n",
       "      <td>...</td>\n",
       "      <td>...</td>\n",
       "      <td>...</td>\n",
       "    </tr>\n",
       "    <tr>\n",
       "      <th>574</th>\n",
       "      <td>1084761001</td>\n",
       "      <td>men_tshirtstanks</td>\n",
       "      <td>wool-blend_base-layer_top</td>\n",
       "      <td>64.99</td>\n",
       "      <td>male</td>\n",
       "    </tr>\n",
       "    <tr>\n",
       "      <th>575</th>\n",
       "      <td>653275070</td>\n",
       "      <td>men_tshirtstanks_shortsleeve</td>\n",
       "      <td>sports_shirt_in_drymove™</td>\n",
       "      <td>12.99</td>\n",
       "      <td>male</td>\n",
       "    </tr>\n",
       "    <tr>\n",
       "      <th>576</th>\n",
       "      <td>653706054</td>\n",
       "      <td>men_tshirtstanks_shortsleeve</td>\n",
       "      <td>slim_fit_sports_shirt</td>\n",
       "      <td>17.99</td>\n",
       "      <td>male</td>\n",
       "    </tr>\n",
       "    <tr>\n",
       "      <th>577</th>\n",
       "      <td>1025399019</td>\n",
       "      <td>men_tshirtstanks_shortsleeve</td>\n",
       "      <td>running_shirt_in_drymove™</td>\n",
       "      <td>17.99</td>\n",
       "      <td>male</td>\n",
       "    </tr>\n",
       "    <tr>\n",
       "      <th>578</th>\n",
       "      <td>1032529012</td>\n",
       "      <td>men_tshirtstanks_shortsleeve</td>\n",
       "      <td>regular_fit_t-shirt_with_chest_pocket</td>\n",
       "      <td>14.99</td>\n",
       "      <td>male</td>\n",
       "    </tr>\n",
       "  </tbody>\n",
       "</table>\n",
       "<p>579 rows × 5 columns</p>\n",
       "</div>"
      ],
      "text/plain": [
       "     product_id                product_category  \\\n",
       "0     963662002  ladies_basics_tops_shortsleeve   \n",
       "1     762558221     ladies_tops_printed_tshirts   \n",
       "2    1031652022     ladies_tops_printed_tshirts   \n",
       "3     762558229     ladies_tops_printed_tshirts   \n",
       "4     963662001  ladies_basics_tops_shortsleeve   \n",
       "..          ...                             ...   \n",
       "574  1084761001                men_tshirtstanks   \n",
       "575   653275070    men_tshirtstanks_shortsleeve   \n",
       "576   653706054    men_tshirtstanks_shortsleeve   \n",
       "577  1025399019    men_tshirtstanks_shortsleeve   \n",
       "578  1032529012    men_tshirtstanks_shortsleeve   \n",
       "\n",
       "                              product_name  product_price  gender  \n",
       "0                           cotton_t-shirt           5.99  female  \n",
       "1                oversized_printed_t-shirt          17.99  female  \n",
       "2                          printed_t-shirt          17.99  female  \n",
       "3                oversized_printed_t-shirt          17.99  female  \n",
       "4                           cotton_t-shirt           5.99  female  \n",
       "..                                     ...            ...     ...  \n",
       "574              wool-blend_base-layer_top          64.99    male  \n",
       "575               sports_shirt_in_drymove™          12.99    male  \n",
       "576                  slim_fit_sports_shirt          17.99    male  \n",
       "577              running_shirt_in_drymove™          17.99    male  \n",
       "578  regular_fit_t-shirt_with_chest_pocket          14.99    male  \n",
       "\n",
       "[579 rows x 5 columns]"
      ]
     },
     "execution_count": 10,
     "metadata": {},
     "output_type": "execute_result"
    }
   ],
   "source": [
    "data"
   ]
  },
  {
   "cell_type": "markdown",
   "id": "e7620e02",
   "metadata": {},
   "source": [
    "## create file csv"
   ]
  },
  {
   "cell_type": "code",
   "execution_count": 16,
   "id": "da0ef6c9",
   "metadata": {
    "ExecuteTime": {
     "end_time": "2022-10-27T00:14:50.160012Z",
     "start_time": "2022-10-27T00:14:49.864704Z"
    }
   },
   "outputs": [],
   "source": [
    "data.to_csv('web_scraping', index=False)\n"
   ]
  }
 ],
 "metadata": {
  "kernelspec": {
   "display_name": "Python 3 (ipykernel)",
   "language": "python",
   "name": "python3"
  },
  "language_info": {
   "codemirror_mode": {
    "name": "ipython",
    "version": 3
   },
   "file_extension": ".py",
   "mimetype": "text/x-python",
   "name": "python",
   "nbconvert_exporter": "python",
   "pygments_lexer": "ipython3",
   "version": "3.9.7"
  },
  "varInspector": {
   "cols": {
    "lenName": 16,
    "lenType": 16,
    "lenVar": 40
   },
   "kernels_config": {
    "python": {
     "delete_cmd_postfix": "",
     "delete_cmd_prefix": "del ",
     "library": "var_list.py",
     "varRefreshCmd": "print(var_dic_list())"
    },
    "r": {
     "delete_cmd_postfix": ") ",
     "delete_cmd_prefix": "rm(",
     "library": "var_list.r",
     "varRefreshCmd": "cat(var_dic_list()) "
    }
   },
   "types_to_exclude": [
    "module",
    "function",
    "builtin_function_or_method",
    "instance",
    "_Feature"
   ],
   "window_display": false
  }
 },
 "nbformat": 4,
 "nbformat_minor": 5
}
