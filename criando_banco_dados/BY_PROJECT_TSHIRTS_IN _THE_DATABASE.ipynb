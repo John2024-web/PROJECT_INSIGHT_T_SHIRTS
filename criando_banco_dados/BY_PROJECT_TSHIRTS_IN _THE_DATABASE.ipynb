{
 "cells": [
  {
   "cell_type": "markdown",
   "id": "b5c68069",
   "metadata": {
    "ExecuteTime": {
     "end_time": "2022-11-20T17:35:02.849644Z",
     "start_time": "2022-11-20T17:34:57.842576Z"
    }
   },
   "source": [
    "### IMPORT"
   ]
  },
  {
   "cell_type": "code",
   "execution_count": 71,
   "id": "6e2ef99b",
   "metadata": {
    "ExecuteTime": {
     "end_time": "2022-11-20T19:36:03.881300Z",
     "start_time": "2022-11-20T19:36:03.872325Z"
    }
   },
   "outputs": [],
   "source": [
    "import pandas as pd\n",
    "import sqlite3\n",
    "from sqlalchemy import create_engine # DATABASE CONNECTION LIBRARY "
   ]
  },
  {
   "cell_type": "markdown",
   "id": "2197afdc",
   "metadata": {},
   "source": [
    "Instalar o Sqlite3 no jupyter:   pip install sqlalchemy"
   ]
  },
  {
   "cell_type": "markdown",
   "id": "f2d351af",
   "metadata": {},
   "source": [
    "### 1.0 CALLING DATA IN CSV"
   ]
  },
  {
   "cell_type": "code",
   "execution_count": 72,
   "id": "4e0f6ef7",
   "metadata": {
    "ExecuteTime": {
     "end_time": "2022-11-20T19:36:05.361219Z",
     "start_time": "2022-11-20T19:36:05.217703Z"
    },
    "scrolled": true
   },
   "outputs": [],
   "source": [
    "data = pd.read_csv('shirts_data/analise_hm.csv')"
   ]
  },
  {
   "cell_type": "markdown",
   "id": "0f0f4404",
   "metadata": {},
   "source": [
    "### 2.0 INSERT DATA IN SQLITE DATABASE"
   ]
  },
  {
   "cell_type": "code",
   "execution_count": 73,
   "id": "545cd736",
   "metadata": {
    "ExecuteTime": {
     "end_time": "2022-11-20T19:36:06.179704Z",
     "start_time": "2022-11-20T19:36:06.168735Z"
    }
   },
   "outputs": [],
   "source": [
    "# INSERT DATA\n",
    "\n",
    "data_insert = data[[\n",
    "    'product_id',\n",
    "    'product_category',\n",
    "    'product_name',\n",
    "    'product_price',\n",
    "    'gender'                      \n",
    "]]"
   ]
  },
  {
   "cell_type": "code",
   "execution_count": 74,
   "id": "7a39e1f2",
   "metadata": {
    "ExecuteTime": {
     "end_time": "2022-11-20T19:36:06.611830Z",
     "start_time": "2022-11-20T19:36:06.591887Z"
    }
   },
   "outputs": [],
   "source": [
    "# TYPES OF EACH COLUMN\n",
    "query_showroom_schema = \"\"\"\n",
    "    CREATE TABLE data (\n",
    "    product_id         INTEGER, \n",
    "    product_category   TEXT,\n",
    "    product_name       TEXT, \n",
    "    product_price      REAL,\n",
    "    gender             TEXT\n",
    "    \n",
    "    )\n",
    "\"\"\""
   ]
  },
  {
   "cell_type": "markdown",
   "id": "fb1eb519",
   "metadata": {},
   "source": [
    "### 3.0 CONNECT TO DATASET"
   ]
  },
  {
   "cell_type": "code",
   "execution_count": 79,
   "id": "142e110b",
   "metadata": {
    "ExecuteTime": {
     "end_time": "2022-11-20T19:36:13.040631Z",
     "start_time": "2022-11-20T19:36:13.024674Z"
    },
    "scrolled": true
   },
   "outputs": [],
   "source": [
    "# CREATE AND CONNECT TO THE DATABASE\n",
    "conn = sqlite3.connect( 'hm_data_db.sqlite' )\n",
    "\n",
    "# LAUNCHES THE EXECUTION OF THE QUERY IN THE DATABASE\n",
    "cursor = conn.execute( query_showroom_schema )\n",
    "\n",
    "# EXECUTE IN DATABASE\n",
    "conn.commit()\n",
    "\n",
    "# CLOSE CONNECTION TO NOT STAY OPEN\n",
    "conn.close()"
   ]
  },
  {
   "cell_type": "code",
   "execution_count": 76,
   "id": "7f5a7c62",
   "metadata": {
    "ExecuteTime": {
     "end_time": "2022-11-20T19:36:07.985608Z",
     "start_time": "2022-11-20T19:36:07.976630Z"
    }
   },
   "outputs": [],
   "source": [
    "conn = create_engine( 'sqlite:///hm_data_db.sqlite', echo=False )"
   ]
  },
  {
   "cell_type": "code",
   "execution_count": 77,
   "id": "4aba83d8",
   "metadata": {
    "ExecuteTime": {
     "end_time": "2022-11-20T19:36:08.496053Z",
     "start_time": "2022-11-20T19:36:08.285725Z"
    }
   },
   "outputs": [],
   "source": [
    "# INSERT DATA TO TABLE\n",
    "data.to_sql( 'data', con=conn, if_exists='append', index=False )"
   ]
  },
  {
   "cell_type": "markdown",
   "id": "638071f0",
   "metadata": {},
   "source": [
    "### 4.0 IMPORTING DATABASE TO CSV FORMAT"
   ]
  },
  {
   "cell_type": "code",
   "execution_count": 78,
   "id": "003052b7",
   "metadata": {
    "ExecuteTime": {
     "end_time": "2022-11-20T19:36:09.358208Z",
     "start_time": "2022-11-20T19:36:09.223758Z"
    }
   },
   "outputs": [
    {
     "data": {
      "text/html": [
       "<div>\n",
       "<style scoped>\n",
       "    .dataframe tbody tr th:only-of-type {\n",
       "        vertical-align: middle;\n",
       "    }\n",
       "\n",
       "    .dataframe tbody tr th {\n",
       "        vertical-align: top;\n",
       "    }\n",
       "\n",
       "    .dataframe thead th {\n",
       "        text-align: right;\n",
       "    }\n",
       "</style>\n",
       "<table border=\"1\" class=\"dataframe\">\n",
       "  <thead>\n",
       "    <tr style=\"text-align: right;\">\n",
       "      <th></th>\n",
       "      <th>product_id</th>\n",
       "      <th>product_category</th>\n",
       "      <th>product_name</th>\n",
       "      <th>product_price</th>\n",
       "      <th>gender</th>\n",
       "    </tr>\n",
       "  </thead>\n",
       "  <tbody>\n",
       "    <tr>\n",
       "      <th>0</th>\n",
       "      <td>963662002</td>\n",
       "      <td>ladies_basics_tops_shortsleeve</td>\n",
       "      <td>cotton_t-shirt</td>\n",
       "      <td>5.99</td>\n",
       "      <td>female</td>\n",
       "    </tr>\n",
       "    <tr>\n",
       "      <th>1</th>\n",
       "      <td>762558221</td>\n",
       "      <td>ladies_tops_printed_tshirts</td>\n",
       "      <td>oversized_printed_t-shirt</td>\n",
       "      <td>17.99</td>\n",
       "      <td>female</td>\n",
       "    </tr>\n",
       "    <tr>\n",
       "      <th>2</th>\n",
       "      <td>762558228</td>\n",
       "      <td>ladies_tops_printed_tshirts</td>\n",
       "      <td>oversized_printed_t-shirt</td>\n",
       "      <td>17.99</td>\n",
       "      <td>female</td>\n",
       "    </tr>\n",
       "    <tr>\n",
       "      <th>3</th>\n",
       "      <td>762558229</td>\n",
       "      <td>ladies_tops_printed_tshirts</td>\n",
       "      <td>oversized_printed_t-shirt</td>\n",
       "      <td>17.99</td>\n",
       "      <td>female</td>\n",
       "    </tr>\n",
       "    <tr>\n",
       "      <th>4</th>\n",
       "      <td>1031652022</td>\n",
       "      <td>ladies_tops_printed_tshirts</td>\n",
       "      <td>printed_t-shirt</td>\n",
       "      <td>17.99</td>\n",
       "      <td>female</td>\n",
       "    </tr>\n",
       "    <tr>\n",
       "      <th>...</th>\n",
       "      <td>...</td>\n",
       "      <td>...</td>\n",
       "      <td>...</td>\n",
       "      <td>...</td>\n",
       "      <td>...</td>\n",
       "    </tr>\n",
       "    <tr>\n",
       "      <th>578</th>\n",
       "      <td>1032529012</td>\n",
       "      <td>men_tshirtstanks_shortsleeve</td>\n",
       "      <td>regular_fit_t-shirt_with_chest_pocket</td>\n",
       "      <td>14.99</td>\n",
       "      <td>male</td>\n",
       "    </tr>\n",
       "    <tr>\n",
       "      <th>579</th>\n",
       "      <td>1084761001</td>\n",
       "      <td>men_tshirtstanks</td>\n",
       "      <td>wool-blend_base-layer_top</td>\n",
       "      <td>64.99</td>\n",
       "      <td>male</td>\n",
       "    </tr>\n",
       "    <tr>\n",
       "      <th>580</th>\n",
       "      <td>874167001</td>\n",
       "      <td>men_tshirtstanks_multipacks</td>\n",
       "      <td>2-pack_coolmax®_tank_tops</td>\n",
       "      <td>24.99</td>\n",
       "      <td>male</td>\n",
       "    </tr>\n",
       "    <tr>\n",
       "      <th>581</th>\n",
       "      <td>980142003</td>\n",
       "      <td>men_tshirtstanks_shortsleeve</td>\n",
       "      <td>relaxed_fit_t-shirt</td>\n",
       "      <td>12.99</td>\n",
       "      <td>male</td>\n",
       "    </tr>\n",
       "    <tr>\n",
       "      <th>582</th>\n",
       "      <td>1050024002</td>\n",
       "      <td>men_tshirtstanks_tanks</td>\n",
       "      <td>embroidered-detail_tank_top</td>\n",
       "      <td>14.99</td>\n",
       "      <td>male</td>\n",
       "    </tr>\n",
       "  </tbody>\n",
       "</table>\n",
       "<p>583 rows × 5 columns</p>\n",
       "</div>"
      ],
      "text/plain": [
       "     product_id                product_category  \\\n",
       "0     963662002  ladies_basics_tops_shortsleeve   \n",
       "1     762558221     ladies_tops_printed_tshirts   \n",
       "2     762558228     ladies_tops_printed_tshirts   \n",
       "3     762558229     ladies_tops_printed_tshirts   \n",
       "4    1031652022     ladies_tops_printed_tshirts   \n",
       "..          ...                             ...   \n",
       "578  1032529012    men_tshirtstanks_shortsleeve   \n",
       "579  1084761001                men_tshirtstanks   \n",
       "580   874167001     men_tshirtstanks_multipacks   \n",
       "581   980142003    men_tshirtstanks_shortsleeve   \n",
       "582  1050024002          men_tshirtstanks_tanks   \n",
       "\n",
       "                              product_name  product_price  gender  \n",
       "0                           cotton_t-shirt           5.99  female  \n",
       "1                oversized_printed_t-shirt          17.99  female  \n",
       "2                oversized_printed_t-shirt          17.99  female  \n",
       "3                oversized_printed_t-shirt          17.99  female  \n",
       "4                          printed_t-shirt          17.99  female  \n",
       "..                                     ...            ...     ...  \n",
       "578  regular_fit_t-shirt_with_chest_pocket          14.99    male  \n",
       "579              wool-blend_base-layer_top          64.99    male  \n",
       "580              2-pack_coolmax®_tank_tops          24.99    male  \n",
       "581                    relaxed_fit_t-shirt          12.99    male  \n",
       "582            embroidered-detail_tank_top          14.99    male  \n",
       "\n",
       "[583 rows x 5 columns]"
      ]
     },
     "execution_count": 78,
     "metadata": {},
     "output_type": "execute_result"
    }
   ],
   "source": [
    "query = \"\"\"\n",
    "    SELECT * FROM data\n",
    "\"\"\"\n",
    "\n",
    "df = pd.read_sql_query( query, conn )\n",
    "df = df.drop_duplicates()\n",
    "df"
   ]
  }
 ],
 "metadata": {
  "kernelspec": {
   "display_name": "Python 3.9.7 ('base')",
   "language": "python",
   "name": "python3"
  },
  "language_info": {
   "codemirror_mode": {
    "name": "ipython",
    "version": 3
   },
   "file_extension": ".py",
   "mimetype": "text/x-python",
   "name": "python",
   "nbconvert_exporter": "python",
   "pygments_lexer": "ipython3",
   "version": "3.9.7"
  },
  "varInspector": {
   "cols": {
    "lenName": 16,
    "lenType": 16,
    "lenVar": 40
   },
   "kernels_config": {
    "python": {
     "delete_cmd_postfix": "",
     "delete_cmd_prefix": "del ",
     "library": "var_list.py",
     "varRefreshCmd": "print(var_dic_list())"
    },
    "r": {
     "delete_cmd_postfix": ") ",
     "delete_cmd_prefix": "rm(",
     "library": "var_list.r",
     "varRefreshCmd": "cat(var_dic_list()) "
    }
   },
   "types_to_exclude": [
    "module",
    "function",
    "builtin_function_or_method",
    "instance",
    "_Feature"
   ],
   "window_display": false
  },
  "vscode": {
   "interpreter": {
    "hash": "097d7f8edb993449d9ebcf8dd2a2eba5a58e44bee63ba9ccf450274508de4c64"
   }
  }
 },
 "nbformat": 4,
 "nbformat_minor": 5
}
